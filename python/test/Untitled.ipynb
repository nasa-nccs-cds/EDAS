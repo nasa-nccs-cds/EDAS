{
 "cells": [
  {
   "cell_type": "code",
   "execution_count": 2,
   "metadata": {},
   "outputs": [
    {
     "name": "stdout",
     "output_type": "stream",
     "text": [
      "Sending request on port 5670, server localhost: [domain=[{\"name\":\"d0\",\"lat\":{\"start\":5,\"end\":40,\"system\":\"values\"},\"lon\":{\"start\":80,\"end\":120,\"system\":\"values\"}}],variable=[{\"uri\":\"http://esgf.nccs.nasa.gov/thredds/dodsC/CMIP5/NASA/GISS/historical/E2-H_historical_r1i1p1/tas_Amon_GISS-E2-H_historical_r1i1p1_185001-190012.nc\",\"name\":\"tas:v1\",\"domain\":\"d0\"}],operation=[{\"name\":\"CDSpark.average\",\"input\":\"v1\",\"domain\":\"d0\",\"axes\":\"xy\"}]]\n",
      "Waiting for a response from the server\n",
      ".\n"
     ]
    },
    {
     "name": "stderr",
     "output_type": "stream",
     "text": [
      "Traceback (most recent call last):\n",
      "  File \"<ipython-input-2-14284e5c3212>\", line 25, in <module>\n",
      "    timeSeries = responses[0](squeeze=1)\n",
      "IndexError: list index out of range\n"
     ]
    }
   ],
   "source": [
    "from pyedas.portal.edas import *\n",
    "import time, sys, cdms2, os\n",
    "import pandas as pd\n",
    "from pyedas.portal.edas import *\n",
    "import matplotlib.pyplot as plt\n",
    "\n",
    "startServer = False\n",
    "portal = None\n",
    "request_port = 5670\n",
    "response_port = 5671\n",
    "host = \"cldra\"\n",
    "server = \"localhost\"\n",
    "\n",
    "try:\n",
    "\n",
    "    portal = EDASPortal(  server, request_port, response_port)\n",
    "    response_manager = portal.getResponseManager()\n",
    "\n",
    "    t0 = time.time()\n",
    "    datainputs = '[domain=[{\"name\":\"d0\",\"lat\":{\"start\":5,\"end\":40,\"system\":\"values\"},\"lon\":{\"start\":80,\"end\":120,\"system\":\"values\"}}],variable=[{\"uri\":\"http://esgf.nccs.nasa.gov/thredds/dodsC/CMIP5/NASA/GISS/historical/E2-H_historical_r1i1p1/tas_Amon_GISS-E2-H_historical_r1i1p1_185001-190012.nc\",\"name\":\"tas:v1\",\"domain\":\"d0\"}],operation=[{\"name\":\"CDSpark.average\",\"input\":\"v1\",\"domain\":\"d0\",\"axes\":\"xy\"}]]'\n",
    "    print \"Sending request on port {0}, server {1}: {2}\".format( portal.request_port, server, datainputs ); sys.stdout.flush()\n",
    "\n",
    "    rId = portal.sendMessage( \"execute\", [ \"CDSpark.workflow\", datainputs, '{ \"response\":\"object\" }'] )\n",
    "    responses = response_manager.getResponseVariables(rId)\n",
    "    timeSeries = responses[0](squeeze=1)\n",
    "\n",
    "    timeSeries -= 273.15\n",
    "    datetimes = pd.to_datetime(timeSeries.getTime().asdatetime())\n",
    "\n",
    "    plt.plot_date( datetimes, timeSeries.data )\n",
    "    plt.gcf().autofmt_xdate()\n",
    "    plt.show()\n",
    "\n",
    "except Exception, err:\n",
    "    traceback.print_exc()\n",
    "\n",
    "finally:\n",
    "\n",
    "    portal.shutdown()"
   ]
  },
  {
   "cell_type": "code",
   "metadata": {},
   "outputs": [],
   "source": [
    ""
   ]
  }
 ],
 "metadata": {
  "kernelspec": {
   "display_name": "Python [conda env:edas]",
   "language": "python",
   "name": "conda-env-edas-py"
  },
  "language_info": {
   "codemirror_mode": {
    "name": "ipython",
    "version": 2.0
   },
   "file_extension": ".py",
   "mimetype": "text/x-python",
   "name": "python",
   "nbconvert_exporter": "python",
   "pygments_lexer": "ipython2",
   "version": "2.7.13"
  }
 },
 "nbformat": 4,
 "nbformat_minor": 2
}